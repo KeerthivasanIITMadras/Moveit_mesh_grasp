{
 "cells": [
  {
   "cell_type": "code",
   "execution_count": 32,
   "metadata": {},
   "outputs": [],
   "source": [
    "import sys\n",
    "sys.path.insert(\n",
    "    0, \"/home/keerthivasan/cgal-swig-bindings/examples/python\")"
   ]
  },
  {
   "cell_type": "code",
   "execution_count": 33,
   "metadata": {},
   "outputs": [
    {
     "name": "stdout",
     "output_type": "stream",
     "text": [
      "Jupyter environment detected. Enabling Open3D WebVisualizer.\n",
      "[Open3D INFO] WebRTC GUI backend enabled.\n",
      "[Open3D INFO] WebRTCWindowSystem: HTTP handshake server disabled.\n"
     ]
    }
   ],
   "source": [
    "from CGAL_Kernel import Point_3  # type: ignore\n",
    "from CGAL_Point_set_3 import Point_set_3  # type: ignore\n",
    "from CGAL_Shape_detection import *  # type: ignore\n",
    "import open3d as o3d  # type: ignore"
   ]
  },
  {
   "cell_type": "code",
   "execution_count": 34,
   "metadata": {},
   "outputs": [
    {
     "name": "stdout",
     "output_type": "stream",
     "text": [
      "Detecting cylinders with efficient RANSAC\n",
      "0 cylinders(s) detected, first 10 cylinders are:\n"
     ]
    }
   ],
   "source": [
    "def convert_open3d_to_cgal_point_set(mesh):\n",
    "    point_set = Point_set_3()\n",
    "\n",
    "    for vertex in mesh.vertices:\n",
    "        point = Point_3(vertex[0], vertex[1], vertex[2])\n",
    "        point_set.insert(point)\n",
    "\n",
    "    return point_set\n",
    "\n",
    "\n",
    "def main():\n",
    "    stl_filename = \"/home/keerthivasan/arm_ws/src/custom_planner/cad_files/B0.stl\"\n",
    "\n",
    "    mesh = o3d.io.read_triangle_mesh(stl_filename)\n",
    "    points = convert_open3d_to_cgal_point_set(mesh)\n",
    "    plane_map = points.add_int_map(\"plane_index\")\n",
    "    nb_planes = region_growing(points, plane_map, min_points=20)\n",
    "    print(nb_planes)\n",
    "    # print(\"Detecting cylinders with efficient RANSAC\")\n",
    "    # cylinder_map = points.add_int_map(\"cylinder_index\")\n",
    "    # cylinders = efficient_RANSAC(points,\n",
    "    #                              cylinder_map,\n",
    "    #                              planes=False,\n",
    "    #                              cylinders=True)\n",
    "    # print(len(cylinders), \"cylinders(s) detected, first 10 cylinders are:\")\n",
    "    # for s in range(min(len(cylinders), 10)):\n",
    "    #     print(\" *\", s, \":\", cylinders[s])\n",
    "\n",
    "\n",
    "if __name__ == \"__main__\":\n",
    "    main()"
   ]
  }
 ],
 "metadata": {
  "kernelspec": {
   "display_name": "Python 3",
   "language": "python",
   "name": "python3"
  },
  "language_info": {
   "codemirror_mode": {
    "name": "ipython",
    "version": 3
   },
   "file_extension": ".py",
   "mimetype": "text/x-python",
   "name": "python",
   "nbconvert_exporter": "python",
   "pygments_lexer": "ipython3",
   "version": "3.8.10"
  }
 },
 "nbformat": 4,
 "nbformat_minor": 2
}
